{
  "nbformat": 4,
  "nbformat_minor": 0,
  "metadata": {
    "colab": {
      "name": "conway_game_of_life_test.ipynb",
      "provenance": [],
      "authorship_tag": "ABX9TyMFK2dXIoVWuOScebVjOVD9",
      "include_colab_link": true
    },
    "kernelspec": {
      "name": "python3",
      "display_name": "Python 3"
    },
    "language_info": {
      "name": "python"
    }
  },
  "cells": [
    {
      "cell_type": "markdown",
      "metadata": {
        "id": "view-in-github",
        "colab_type": "text"
      },
      "source": [
        "<a href=\"https://colab.research.google.com/github/sh1var3ddy/Gsoc-2022/blob/main/conway_game_of_life_test.ipynb\" target=\"_parent\"><img src=\"https://colab.research.google.com/assets/colab-badge.svg\" alt=\"Open In Colab\"/></a>"
      ]
    },
    {
      "cell_type": "code",
      "execution_count": null,
      "metadata": {
        "id": "8g3Fn8l8zb6L"
      },
      "outputs": [],
      "source": [
        "# -->Driver code to play with various patterns of conways game of life\n",
        "\n",
        "import conwaygameoflife as Game\n",
        "# Import the module\n",
        "\n",
        "#invoke method game to start the game\n",
        "\n",
        "# This method accepts various keyword arguments for grid size , iteration delay , choice of pattern\n",
        "Game.game(50,100)\n",
        "\n",
        "#game (gridsize,interval,glider,gosper,stable)"
      ]
    }
  ]
}