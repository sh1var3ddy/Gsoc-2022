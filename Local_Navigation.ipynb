{
  "nbformat": 4,
  "nbformat_minor": 0,
  "metadata": {
    "colab": {
      "name": "Local_Navigation.ipynb",
      "provenance": [],
      "authorship_tag": "ABX9TyOLiv9SIvkwHeICyZKpQZvV",
      "include_colab_link": true
    },
    "kernelspec": {
      "name": "python3",
      "display_name": "Python 3"
    },
    "language_info": {
      "name": "python"
    }
  },
  "cells": [
    {
      "cell_type": "markdown",
      "metadata": {
        "id": "view-in-github",
        "colab_type": "text"
      },
      "source": [
        "<a href=\"https://colab.research.google.com/github/sh1var3ddy/Gsoc-2022/blob/main/Local_Navigation.ipynb\" target=\"_parent\"><img src=\"https://colab.research.google.com/assets/colab-badge.svg\" alt=\"Open In Colab\"/></a>"
      ]
    },
    {
      "cell_type": "code",
      "execution_count": null,
      "metadata": {
        "id": "iWmK2SldC1eF"
      },
      "outputs": [],
      "source": [
        "from GUI import GUI\n",
        "from HAL import HAL\n",
        "import numpy as np\n",
        "import cv2\n",
        "\n",
        "# Enter sequential code!\n",
        "\n",
        "\n",
        "prev_error = 0\n",
        "accum_error = 0\n",
        "while True:\n",
        "    # Enter iterative code!\n",
        "    image = HAL.getImage()\n",
        "    hsv = cv2.cvtColor(image, cv2.COLOR_BGR2HSV)\n",
        "    lower_thresh = np.array([0, 0, 0])\n",
        "    upper_thresh = np.array([1, 1, 360])\n",
        "\n",
        "    # print(\"Running\")\n",
        "    mask = cv2.inRange(hsv, lower_thresh, upper_thresh)\n",
        "    mask = cv2.bitwise_not(mask)\n",
        " \n",
        "    h, w, d = image.shape\n",
        "    search_top = 3 * h / 4\n",
        "    search_bot = search_top * 20\n",
        "\n",
        "    M = cv2.moments(mask)\n",
        "    if M['m00'] != 0:\n",
        "        cx = int(M['m10'] / M['m00'])\n",
        "        cy = int(M['m01'] / M['m00'])\n",
        "        # cv2.circle(image, (cx, cy), 20, (0, 0, 255), -1)\n",
        "        err = cx - w / 2\n",
        "        print(err)\n",
        "        p = float(err)\n",
        "        d = float(err) - float(prev_error)\n",
        "\n",
        "        GUI.showImage(image)\n",
        "\n",
        "        HAL.setV(4)\n",
        "        HAL.setW(-p / 50 - d / 70)\n",
        "\n",
        "        prev_error = float(err)"
      ]
    },
    {
      "cell_type": "code",
      "source": [
        ""
      ],
      "metadata": {
        "id": "5LUQEZJiC_x1"
      },
      "execution_count": null,
      "outputs": []
    }
  ]
}